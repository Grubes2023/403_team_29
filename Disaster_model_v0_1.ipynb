{
  "nbformat": 4,
  "nbformat_minor": 0,
  "metadata": {
    "colab": {
      "provenance": [],
      "authorship_tag": "ABX9TyOY59OYcHswsrdSEy7UKOdK",
      "include_colab_link": true
    },
    "kernelspec": {
      "name": "python3",
      "display_name": "Python 3"
    },
    "language_info": {
      "name": "python"
    },
    "accelerator": "GPU",
    "gpuClass": "standard"
  },
  "cells": [
    {
      "cell_type": "markdown",
      "metadata": {
        "id": "view-in-github",
        "colab_type": "text"
      },
      "source": [
        "<a href=\"https://colab.research.google.com/github/Grubes2023/403_team_29/blob/main/Disaster_model_v0_1.ipynb\" target=\"_parent\"><img src=\"https://colab.research.google.com/assets/colab-badge.svg\" alt=\"Open In Colab\"/></a>"
      ]
    },
    {
      "cell_type": "code",
      "execution_count": 11,
      "metadata": {
        "id": "ZbEx_4N4vfiR"
      },
      "outputs": [],
      "source": [
        "# import the required libraries\n",
        "import pandas as pd\n",
        "import numpy as np\n",
        "import re\n",
        "import matplotlib.pyplot as plt\n",
        "import nltk\n",
        "from nltk.tokenize import word_tokenize\n",
        "from nltk.stem import WordNetLemmatizer\n",
        "\n",
        "from sklearn.model_selection import train_test_split\n",
        "from sklearn.metrics import accuracy_score, classification_report, confusion_matrix, ConfusionMatrixDisplay\n",
        "\n",
        "import tensorflow as tf\n",
        "from keras.optimizers import Adam, RMSprop\n",
        "from keras.models import Model\n",
        "from keras.layers import Embedding, LSTM, Dense, Dropout, Input, Activation\n",
        "from keras.callbacks import EarlyStopping\n",
        "from keras.utils import pad_sequences\n",
        "from keras.preprocessing.text import Tokenizer"
      ]
    },
    {
      "cell_type": "code",
      "source": [
        "# nltk.download('stopwords')\n",
        "nltk.download('punkt')\n",
        "nltk.download('wordnet')\n",
        "nltk.download('omw-1.4')\n",
        "# stop_words = set(stopwords.words('english'))"
      ],
      "metadata": {
        "id": "y5uYatE5C1cx"
      },
      "execution_count": null,
      "outputs": []
    },
    {
      "cell_type": "code",
      "source": [
        "#creating a function to prepocess tweet\n",
        "def data_processing(tweet):\n",
        "    tweet = tweet.lower()                                                         # Make tweet lowercase for consistency\n",
        "    tweet = re.sub(r\"https\\S+|www\\S+http\\S+\", '', tweet, flags = re.MULTILINE)    # get rid of any websites in tweet\n",
        "\n",
        "    tweet = re.sub(r'\\@w+|\\#','', tweet)                                        \n",
        "    tweet = re.sub(r'[^\\w\\s]','',tweet)\n",
        "    tweet = re.sub(r'ð','',tweet)  \n",
        "    return tweet\n",
        "\n",
        "# time to get the stem (lemma) of each word in the tweet\n",
        "lemmatizer = WordNetLemmatizer()\n",
        "def lemmatizing(data):\n",
        "    # split string into list of words\n",
        "    word_list = data.split()\n",
        "    # lemmatize each word in the list\n",
        "    word_list = [lemmatizer.lemmatize(word) for word in word_list]\n",
        "    # combine the list into 1 string and return that string\n",
        "    tweet = ' '.join(word_list)\n",
        "    return tweet"
      ],
      "metadata": {
        "id": "uEnz9EYBvnLw"
      },
      "execution_count": 4,
      "outputs": []
    },
    {
      "cell_type": "code",
      "source": [
        "tweet_df = pd.read_csv('disaster_training_binary.csv')\n",
        "\n",
        "# apply proprocessing function to tweets and save as itself\n",
        "tweet_df.tweet = tweet_df['tweet'].astype(str)\n",
        "tweet_df.tweet = tweet_df['tweet'].apply(data_processing)\n",
        "# get rid of any duplicate tweets and save as itself\n",
        "tweet_df = tweet_df.drop_duplicates('tweet')\n",
        "\n",
        "tweet_df.tweet = tweet_df['tweet'].apply(lambda x: lemmatizing(x))    # apply lemmatizer\n",
        "\n",
        "## up and downsampling tweets\n",
        "class_1 = tweet_df[tweet_df['label'] == 1]\n",
        "class_0 = tweet_df[tweet_df['label'] == 0]  #.sample(n=1000)\n",
        "# print(class_0.shape)\n",
        "# print(class_1.shape)\n",
        "\n",
        "balanced_df = pd.concat([class_1, class_0], axis=0)\n",
        "\n",
        "# getting data into training and testing sets\n",
        "features = balanced_df['tweet']\n",
        "labels = balanced_df['label']\n",
        "X_train, X_val, Y_train, Y_val = train_test_split(features,\n",
        "                                                  labels,\n",
        "                                                  test_size=0.1,\n",
        "                                                  random_state=42)\n",
        "\n",
        "# Visualizing the Data\n",
        "plt.pie(balanced_df['label'].value_counts().values,\n",
        "        labels = balanced_df['label'].value_counts().index.astype(int),\n",
        "        autopct='%1.2f%%',\n",
        "        wedgeprops = {'linewidth': 1})\n",
        "plt.title('Breakdown of Dataset')\n",
        "plt.show()"
      ],
      "metadata": {
        "colab": {
          "base_uri": "https://localhost:8080/",
          "height": 264
        },
        "id": "0HxW6LNLy3rB",
        "outputId": "e3c5e890-55e8-47d1-cec1-bbee9863c84f"
      },
      "execution_count": 6,
      "outputs": [
        {
          "output_type": "display_data",
          "data": {
            "text/plain": [
              "<Figure size 432x288 with 1 Axes>"
            ],
            "image/png": "[encoded data removed]"
          },
          "metadata": {}
        }
      ]
    },
    {
      "cell_type": "code",
      "source": [
        "## My model parameters\n",
        "VOCAB_SIZE = 6400\n",
        "MAX_LEN = 250\n",
        "\n",
        "tok = Tokenizer(num_words=VOCAB_SIZE)\n",
        "tok.fit_on_texts(X_train)\n",
        "\n",
        "sequences = tok.texts_to_sequences(X_train)\n",
        "sequences_matrix = pad_sequences(sequences, maxlen=MAX_LEN)\n",
        "\n",
        "val_sequences = tok.texts_to_sequences(X_val)\n",
        "val_sequences_matrix = pad_sequences(val_sequences, maxlen=MAX_LEN)\n",
        "\n",
        "### MODEL\n",
        "def RNN():\n",
        "    inputs = Input(name='inputs',shape=[MAX_LEN])\n",
        "    layer = Embedding(VOCAB_SIZE,50,input_length=MAX_LEN)(inputs)\n",
        "\n",
        "    # adding a Long-Short term memory layer. This is kinda the NLP part of model\n",
        "    layer = LSTM(512)(layer)\n",
        "\n",
        "    # adding a dense/activation/dropout layer\n",
        "    layer = Dense(256,name='FC1')(layer)\n",
        "    layer = Activation('relu')(layer)\n",
        "    layer = Dropout(0.5)(layer)\n",
        "\n",
        "    # adding a second dense/activation/dropout layer\n",
        "    layer = Dense(512,name='FC2')(layer)\n",
        "    layer = Activation('relu')(layer)\n",
        "    layer = Dropout(0.25)(layer)\n",
        "\n",
        "    # adding the final output layer\n",
        "    layer = Dense(1,name='out_layer')(layer)\n",
        "    layer = Activation('sigmoid')(layer)\n",
        "\n",
        "    model = Model(inputs=inputs,outputs=layer)\n",
        "    return model\n",
        "\n",
        "model = RNN()\n",
        "model.summary()\n",
        "my_optimizer = Adam()\n",
        "model.compile(loss='binary_crossentropy',optimizer=my_optimizer, metrics=['accuracy'])"
      ],
      "metadata": {
        "colab": {
          "base_uri": "https://localhost:8080/"
        },
        "id": "8XAKfT8GvnUy",
        "outputId": "63a12c91-c09d-41a1-ced7-7370af0225f1"
      },
      "execution_count": 7,
      "outputs": [
        {
          "output_type": "stream",
          "name": "stdout",
          "text": [
            "Model: \"model\"\n",
            "_________________________________________________________________\n",
            " Layer (type)                Output Shape              Param #   \n",
            "=================================================================\n",
            " inputs (InputLayer)         [(None, 250)]             0         \n",
            "                                                                 \n",
            " embedding (Embedding)       (None, 250, 50)           320000    \n",
            "                                                                 \n",
            " lstm (LSTM)                 (None, 512)               1153024   \n",
            "                                                                 \n",
            " FC1 (Dense)                 (None, 256)               131328    \n",
            "                                                                 \n",
            " activation (Activation)     (None, 256)               0         \n",
            "                                                                 \n",
            " dropout (Dropout)           (None, 256)               0         \n",
            "                                                                 \n",
            " FC2 (Dense)                 (None, 512)               131584    \n",
            "                                                                 \n",
            " activation_1 (Activation)   (None, 512)               0         \n",
            "                                                                 \n",
            " dropout_1 (Dropout)         (None, 512)               0         \n",
            "                                                                 \n",
            " out_layer (Dense)           (None, 1)                 513       \n",
            "                                                                 \n",
            " activation_2 (Activation)   (None, 1)                 0         \n",
            "                                                                 \n",
            "=================================================================\n",
            "Total params: 1,736,449\n",
            "Trainable params: 1,736,449\n",
            "Non-trainable params: 0\n",
            "_________________________________________________________________\n"
          ]
        }
      ]
    },
    {
      "cell_type": "code",
      "source": [
        "callback = EarlyStopping(monitor='loss', min_delta=0.0001, start_from_epoch=4, mode='max', restore_best_weights=True, patience=2)\n",
        "\n",
        "model.fit(sequences_matrix,Y_train,batch_size=128,epochs=8,\n",
        "          validation_data=(val_sequences_matrix, Y_val), verbose=1,callbacks=[callback])"
      ],
      "metadata": {
        "colab": {
          "base_uri": "https://localhost:8080/"
        },
        "id": "VhTsUitvvnXY",
        "outputId": "3011d503-5fa2-44a3-c007-570fce4548db"
      },
      "execution_count": 31,
      "outputs": [
        {
          "output_type": "stream",
          "name": "stdout",
          "text": [
            "Epoch 1/8\n",
            "39/39 [==============================] - 3s 85ms/step - loss: 0.0138 - accuracy: 0.9956 - val_loss: 0.3787 - val_accuracy: 0.9260\n",
            "Epoch 2/8\n",
            "39/39 [==============================] - 3s 82ms/step - loss: 0.0298 - accuracy: 0.9908 - val_loss: 0.3371 - val_accuracy: 0.8791\n",
            "Epoch 3/8\n",
            "39/39 [==============================] - 3s 81ms/step - loss: 0.0459 - accuracy: 0.9831 - val_loss: 0.3598 - val_accuracy: 0.9224\n",
            "Epoch 4/8\n",
            "39/39 [==============================] - 3s 82ms/step - loss: 0.0098 - accuracy: 0.9968 - val_loss: 0.3835 - val_accuracy: 0.9224\n",
            "Epoch 5/8\n",
            "39/39 [==============================] - 3s 83ms/step - loss: 0.0030 - accuracy: 0.9994 - val_loss: 0.4434 - val_accuracy: 0.9278\n",
            "Epoch 6/8\n",
            "39/39 [==============================] - 3s 81ms/step - loss: 0.0024 - accuracy: 0.9996 - val_loss: 0.4694 - val_accuracy: 0.9296\n",
            "Epoch 7/8\n",
            "39/39 [==============================] - 3s 82ms/step - loss: 0.0012 - accuracy: 0.9996 - val_loss: 0.5189 - val_accuracy: 0.9224\n"
          ]
        },
        {
          "output_type": "execute_result",
          "data": {
            "text/plain": [
              "<keras.callbacks.History at 0x7fc64c285700>"
            ]
          },
          "metadata": {},
          "execution_count": 31
        }
      ]
    },
    {
      "cell_type": "code",
      "source": [
        "test_tweets =[\n",
        "              [\"a semi truck crashed on the highway\",0],\n",
        "              [\"Love the new bbq pit. Gets good and hot, and smokes brisket like no other\",0],\n",
        "              [\"the fire near the power plant is hot\", 1],\n",
        "              [\"heavy winds on the way to dallas\", 1], \n",
        "              [\"incoming rain\", 0],\n",
        "              [\"this concert is fire\", 0],\n",
        "              [\"a violent storm is coming into town\", 0],\n",
        "             ]\n",
        "\n",
        "# NOTES FROM TESTING\n",
        "\"\"\"\n",
        "need to break connection between 'BREAKING' and label 1\n",
        "need some example of rain in label 0\n",
        "need some highway crash examples in label 0\n",
        "need something to connect disaster near a power plant to label 1/2\n",
        "need some more violent storm examples of label 1\n",
        "\"\"\"\n",
        "\n",
        "new_tweets = []\n",
        "true_labels = []\n",
        "pred_preds = []\n",
        "for i in range(len(test_tweets)):\n",
        "    new_tweets.append(test_tweets[i][0])\n",
        "    true_labels.append(test_tweets[i][1])\n",
        "\n",
        "seq = tok.texts_to_sequences(new_tweets)\n",
        "padded = pad_sequences(seq, maxlen=MAX_LEN)\n",
        "pred = model.predict(padded).squeeze()\n",
        "\n",
        "categories = {0 : \"No Concern\",\n",
        "              1 : \"Of Moderate Concern\",\n",
        "              2 : \"An Immediate Threat\"}\n",
        "\n",
        "for i in range(len(new_tweets)):\n",
        "    print(new_tweets[i])\n",
        "    print(\"Raw Output of Model : \", np.around(pred[i], decimals=3))\n",
        "    prediction = np.around(pred[i]).astype(int)\n",
        "    pred_preds.append(prediction)\n",
        "    print(\"Predicted: \", categories[prediction], '\\n')"
      ],
      "metadata": {
        "colab": {
          "base_uri": "https://localhost:8080/"
        },
        "id": "aVMU2fy1wHCS",
        "outputId": "b0d59bd2-8daa-4e81-df5f-d10dd4a4d13d"
      },
      "execution_count": 33,
      "outputs": [
        {
          "output_type": "stream",
          "name": "stdout",
          "text": [
            "1/1 [==============================] - 0s 36ms/step\n",
            "a semi truck crashed on the highway\n",
            "Raw Output of Model :  0.738\n",
            "Predicted:  Of Moderate Concern \n",
            "\n",
            "Love the new bbq pit. Gets good and hot, and smokes brisket like no other\n",
            "Raw Output of Model :  0.0\n",
            "Predicted:  No Concern \n",
            "\n",
            "the fire near the power plant is hot\n",
            "Raw Output of Model :  0.016\n",
            "Predicted:  No Concern \n",
            "\n",
            "heavy winds on the way to dallas\n",
            "Raw Output of Model :  0.996\n",
            "Predicted:  Of Moderate Concern \n",
            "\n",
            "incoming rain\n",
            "Raw Output of Model :  0.042\n",
            "Predicted:  No Concern \n",
            "\n",
            "this concert is fire\n",
            "Raw Output of Model :  0.0\n",
            "Predicted:  No Concern \n",
            "\n",
            "a violent storm is coming into town\n",
            "Raw Output of Model :  0.15\n",
            "Predicted:  No Concern \n",
            "\n"
          ]
        }
      ]
    },
    {
      "cell_type": "code",
      "source": [
        "ConfusionMatrixDisplay(confusion_matrix(true_labels, pred_preds)).plot()\n"
      ],
      "metadata": {
        "colab": {
          "base_uri": "https://localhost:8080/",
          "height": 301
        },
        "id": "Un-ys4G3tFI8",
        "outputId": "0fc8d0a7-d191-4e86-d8e9-b76f1a8e2bac"
      },
      "execution_count": 34,
      "outputs": [
        {
          "output_type": "execute_result",
          "data": {
            "text/plain": [
              "<sklearn.metrics._plot.confusion_matrix.ConfusionMatrixDisplay at 0x7fc654798ca0>"
            ]
          },
          "metadata": {},
          "execution_count": 34
        },
        {
          "output_type": "display_data",
          "data": {
            "text/plain": [
              "<Figure size 432x288 with 2 Axes>"
            ],
            "image/png": "[encoded data removed]"
          },
          "metadata": {
            "needs_background": "light"
          }
        }
      ]
    }
  ]
}