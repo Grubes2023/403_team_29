{
  "nbformat": 4,
  "nbformat_minor": 0,
  "metadata": {
    "colab": {
      "provenance": [],
      "authorship_tag": "ABX9TyP2JGYSN+wIr7/acV9UauH1",
      "include_colab_link": true
    },
    "kernelspec": {
      "name": "python3",
      "display_name": "Python 3"
    },
    "language_info": {
      "name": "python"
    },
    "accelerator": "GPU",
    "gpuClass": "standard"
  },
  "cells": [
    {
      "cell_type": "markdown",
      "metadata": {
        "id": "view-in-github",
        "colab_type": "text"
      },
      "source": [
        "<a href=\"https://colab.research.google.com/github/Grubes2023/403_team_29/blob/main/Machine_learning/Disaster_model_v0_3.ipynb\" target=\"_parent\"><img src=\"https://colab.research.google.com/assets/colab-badge.svg\" alt=\"Open In Colab\"/></a>"
      ]
    },
    {
      "cell_type": "code",
      "execution_count": 71,
      "metadata": {
        "id": "ZbEx_4N4vfiR"
      },
      "outputs": [],
      "source": [
        "# import the required libraries\n",
        "import pandas as pd\n",
        "import numpy as np\n",
        "import re\n",
        "import matplotlib.pyplot as plt\n",
        "import nltk\n",
        "from nltk.tokenize import word_tokenize\n",
        "from nltk.stem import WordNetLemmatizer\n",
        "\n",
        "from sklearn.model_selection import train_test_split\n",
        "from sklearn.metrics import accuracy_score, classification_report, confusion_matrix, ConfusionMatrixDisplay\n",
        "from sklearn.utils import shuffle\n",
        "\n",
        "import tensorflow as tf\n",
        "from keras.optimizers import Adam, RMSprop\n",
        "from keras.models import Model, load_model\n",
        "from keras.layers import Embedding, LSTM, Dense, Dropout, Input, Activation\n",
        "from keras.callbacks import EarlyStopping\n",
        "from keras.utils import pad_sequences\n",
        "from keras.preprocessing.text import Tokenizer\n",
        "\n",
        "mounted = False"
      ]
    },
    {
      "cell_type": "code",
      "source": [
        "from google.colab import drive\n",
        "drive.mount('/content/gdrive')\n",
        "\n",
        "mounted = True"
      ],
      "metadata": {
        "colab": {
          "base_uri": "https://localhost:8080/"
        },
        "id": "8bgUSCub4JQj",
        "outputId": "f6f872a2-6ec5-4d8d-94eb-23f15e385d3e"
      },
      "execution_count": 73,
      "outputs": [
        {
          "output_type": "stream",
          "name": "stdout",
          "text": [
            "Drive already mounted at /content/gdrive; to attempt to forcibly remount, call drive.mount(\"/content/gdrive\", force_remount=True).\n"
          ]
        }
      ]
    },
    {
      "cell_type": "code",
      "source": [
        "nltk.download('punkt')\n",
        "nltk.download('wordnet')\n",
        "nltk.download('omw-1.4')\n",
        "# !pip install pyyaml h5py  # Required to save models in HDF5 format"
      ],
      "metadata": {
        "colab": {
          "base_uri": "https://localhost:8080/"
        },
        "id": "y5uYatE5C1cx",
        "outputId": "51443516-7fd0-4327-c09f-a319de1c9330"
      },
      "execution_count": 4,
      "outputs": [
        {
          "output_type": "stream",
          "name": "stderr",
          "text": [
            "[nltk_data] Downloading package punkt to /root/nltk_data...\n",
            "[nltk_data]   Unzipping tokenizers/punkt.zip.\n",
            "[nltk_data] Downloading package wordnet to /root/nltk_data...\n",
            "[nltk_data] Downloading package omw-1.4 to /root/nltk_data...\n"
          ]
        },
        {
          "output_type": "stream",
          "name": "stdout",
          "text": [
            "Looking in indexes: https://pypi.org/simple, https://us-python.pkg.dev/colab-wheels/public/simple/\n",
            "Requirement already satisfied: pyyaml in /usr/local/lib/python3.8/dist-packages (6.0)\n",
            "Requirement already satisfied: h5py in /usr/local/lib/python3.8/dist-packages (3.1.0)\n",
            "Requirement already satisfied: numpy>=1.17.5 in /usr/local/lib/python3.8/dist-packages (from h5py) (1.22.4)\n"
          ]
        }
      ]
    },
    {
      "cell_type": "code",
      "source": [
        "#creating a function to prepocess tweet\n",
        "def data_processing(tweet):\n",
        "    tweet = tweet.lower()                                                         # Make tweet lowercase for consistency\n",
        "    tweet = re.sub(r\"https\\S+|www\\S+http\\S+\", '', tweet, flags = re.MULTILINE)    # get rid of any websites in tweet\n",
        "\n",
        "    tweet = re.sub(r'\\@w+|\\#','', tweet)                                        \n",
        "    tweet = re.sub(r'[^\\w\\s]','',tweet)\n",
        "    tweet = re.sub(r'ð','',tweet)  \n",
        "    return tweet\n",
        "\n",
        "# time to get the stem (lemma) of each word in the tweet\n",
        "lemmatizer = WordNetLemmatizer()\n",
        "def lemmatizing(data):\n",
        "    # split string into list of words\n",
        "    word_list = data.split()\n",
        "    # lemmatize each word in the list\n",
        "    word_list = [lemmatizer.lemmatize(word) for word in word_list]\n",
        "    # combine the list into 1 string and return that string\n",
        "    tweet = ' '.join(word_list)\n",
        "    return tweet"
      ],
      "metadata": {
        "id": "uEnz9EYBvnLw"
      },
      "execution_count": 51,
      "outputs": []
    },
    {
      "cell_type": "code",
      "source": [
        "# getting my dataset for training\n",
        "if mounted:\n",
        "    try:\n",
        "        # main csv will be in personal drive. if not go to a backup file\n",
        "        tweet_df = pd.read_csv('/content/gdrive/MyDrive/Datasets_for_403/disaster_training_binary.csv')\n",
        "        print(\"Main Drive Dataset Loaded\\n\")\n",
        "    except:\n",
        "        # backup file is in shared folder\n",
        "        tweet_df = pd.read_csv('/content/gdrive/Shareddrives/ECEN 403 Group 29/Brandon_ML_files/disaster_training_binary.csv')\n",
        "        print(\"Backup Drive Dataset Loaded\\n\")\n",
        "else:\n",
        "    # ultimate backup on local machine\n",
        "    tweet_df = pd.read_csv('disaster_training_binary.csv')\n",
        "\n",
        "# apply proprocessing function to tweets and save as itself\n",
        "tweet_df.tweet = tweet_df['tweet'].astype(str)\n",
        "tweet_df.tweet = tweet_df['tweet'].apply(data_processing)\n",
        "# get rid of any duplicate tweets and save as itself\n",
        "tweet_df = tweet_df.drop_duplicates('tweet')\n",
        "\n",
        "# lemmatize all the tweets\n",
        "tweet_df.tweet = tweet_df['tweet'].apply(lambda x: lemmatizing(x))    # apply lemmatizer\n",
        "\n",
        "my_random_state = 42\n",
        "tweet_df = shuffle(tweet_df, random_state=my_random_state)\n",
        "\n",
        "# getting data into training and testing sets\n",
        "features = tweet_df['tweet']\n",
        "labels = tweet_df['label']\n",
        "X_train, X_val, Y_train, Y_val = train_test_split(features,\n",
        "                                                  labels,\n",
        "                                                  test_size=0.2,\n",
        "                                                  random_state=my_random_state)\n",
        "\n",
        "# Visualizing the Data\n",
        "plt.subplot(2,2,1)\n",
        "plt.pie(tweet_df['label'].value_counts().values,\n",
        "        labels = tweet_df['label'].value_counts().index.astype(int),\n",
        "        autopct='%1.2f%%',\n",
        "        wedgeprops = {'linewidth': 1})\n",
        "plt.title('Total Dataset')\n",
        "\n",
        "plt.subplot(2,2,3)\n",
        "plt.pie(Y_train.value_counts().values,\n",
        "        labels = Y_train.value_counts().index.astype(int),\n",
        "        autopct='%1.2f%%',\n",
        "        wedgeprops = {'linewidth': 1})\n",
        "plt.title('Training Dataset')\n",
        "\n",
        "plt.subplot(2,2,4)\n",
        "plt.pie(Y_val.value_counts().values,\n",
        "        labels = Y_val.value_counts().index.astype(int),\n",
        "        autopct='%1.2f%%',\n",
        "        wedgeprops = {'linewidth': 1})\n",
        "plt.title('Validation Dataset')\n",
        "\n",
        "plt.show()"
      ],
      "metadata": {
        "colab": {
          "base_uri": "https://localhost:8080/",
          "height": 299
        },
        "id": "0HxW6LNLy3rB",
        "outputId": "a5a63e62-1b3d-437e-f762-0d7bf2425083"
      },
      "execution_count": 86,
      "outputs": [
        {
          "output_type": "stream",
          "name": "stdout",
          "text": [
            "Main Drive Dataset Loaded\n",
            "\n"
          ]
        },
        {
          "output_type": "display_data",
          "data": {
            "text/plain": [
              "<Figure size 432x288 with 3 Axes>"
            ],
            "image/png": "[encoded data removed]"
          },
          "metadata": {}
        }
      ]
    },
    {
      "cell_type": "code",
      "source": [
        "#########################\n",
        "## My model parameters ##\n",
        "#########################\n",
        "VOCAB_SIZE = 6400\n",
        "MAX_LEN = 250\n",
        "\n",
        "\n",
        "# create a tokenizer to tokenize the text (words -> numbers)\n",
        "tok = Tokenizer(num_words=VOCAB_SIZE)\n",
        "tok.fit_on_texts(X_train)\n",
        "\n",
        "# apply tokenizer to tweets and pad sequences tget everything the same length\n",
        "sequences = tok.texts_to_sequences(X_train)\n",
        "sequences_matrix = pad_sequences(sequences, maxlen=MAX_LEN)\n",
        "\n",
        "# apply tokenizer and pad sequences to validation data\n",
        "val_sequences = tok.texts_to_sequences(X_val)\n",
        "val_sequences_matrix = pad_sequences(val_sequences, maxlen=MAX_LEN)\n",
        "\n",
        "\n",
        "#############\n",
        "### MODEL ###\n",
        "#############\n",
        "def RNN():\n",
        "    inputs = Input(name='inputs',shape=[MAX_LEN])\n",
        "    layer = Embedding(VOCAB_SIZE,50,input_length=MAX_LEN)(inputs)\n",
        "\n",
        "    # adding a Long-Short term memory layer. This is kinda the NLP part of model\n",
        "    layer = LSTM(512)(layer)\n",
        "\n",
        "    # adding a dense/activation/dropout layer\n",
        "    layer = Dense(256,name='FC1')(layer)\n",
        "    layer = Activation('relu')(layer)\n",
        "    layer = Dropout(0.5)(layer)\n",
        "\n",
        "    # adding a second dense/activation/dropout layer\n",
        "    layer = Dense(512,name='FC2')(layer)\n",
        "    layer = Activation('relu')(layer)\n",
        "    layer = Dropout(0.25)(layer)\n",
        "\n",
        "    # adding the final output layer\n",
        "    layer = Dense(1,name='out_layer')(layer)\n",
        "    layer = Activation('sigmoid')(layer)\n",
        "\n",
        "    model = Model(inputs=inputs,outputs=layer)\n",
        "    return model\n",
        "\n",
        "model = RNN()\n",
        "\n",
        "# my optimizers: probably gonna use Adam, but different example of NLP have RMSprop\n",
        "my_optimizers =[\n",
        "                Adam(), \n",
        "                RMSprop()\n",
        "               ]\n",
        "\n",
        "# loss functions : binary = ([0],[1])\n",
        "#                       for categ/sparse_categ - last activation layer must be softmax\n",
        "#                  categ = ([1,0,0], [0,1,0], [0,0,1])  need to pair with argmax i think\n",
        "#                  sparse_categ = ([0], [1], [2])\n",
        "loss_fns =[\n",
        "           'binary_crossentropy',\n",
        "           'categorical_crossentropy',\n",
        "           'sparse_categorical_crossentropy'\n",
        "          ]\n",
        "\n",
        "# compile the model (does NOT do any training or predicting)\n",
        "model.compile(loss=loss_fns[0],optimizer=my_optimizers[0], metrics=['accuracy'])\n",
        "\n",
        "# print out a summary of the model (gives number of trainable parameters)\n",
        "model.summary()"
      ],
      "metadata": {
        "colab": {
          "base_uri": "https://localhost:8080/"
        },
        "id": "8XAKfT8GvnUy",
        "outputId": "d46759c1-956a-41dd-85aa-78b768f17c53"
      },
      "execution_count": 68,
      "outputs": [
        {
          "output_type": "stream",
          "name": "stdout",
          "text": [
            "Model: \"model_10\"\n",
            "_________________________________________________________________\n",
            " Layer (type)                Output Shape              Param #   \n",
            "=================================================================\n",
            " inputs (InputLayer)         [(None, 250)]             0         \n",
            "                                                                 \n",
            " embedding_10 (Embedding)    (None, 250, 50)           320000    \n",
            "                                                                 \n",
            " lstm_10 (LSTM)              (None, 512)               1153024   \n",
            "                                                                 \n",
            " FC1 (Dense)                 (None, 256)               131328    \n",
            "                                                                 \n",
            " activation_30 (Activation)  (None, 256)               0         \n",
            "                                                                 \n",
            " dropout_20 (Dropout)        (None, 256)               0         \n",
            "                                                                 \n",
            " FC2 (Dense)                 (None, 512)               131584    \n",
            "                                                                 \n",
            " activation_31 (Activation)  (None, 512)               0         \n",
            "                                                                 \n",
            " dropout_21 (Dropout)        (None, 512)               0         \n",
            "                                                                 \n",
            " out_layer (Dense)           (None, 1)                 513       \n",
            "                                                                 \n",
            " activation_32 (Activation)  (None, 1)                 0         \n",
            "                                                                 \n",
            "=================================================================\n",
            "Total params: 1,736,449\n",
            "Trainable params: 1,736,449\n",
            "Non-trainable params: 0\n",
            "_________________________________________________________________\n"
          ]
        }
      ]
    },
    {
      "cell_type": "code",
      "source": [
        "# callback to stop training if starting to overtrain\n",
        "ES_callback = EarlyStopping(monitor='val_loss', min_delta=0.0001, start_from_epoch=5, mode='max', restore_best_weights=True, patience=2)\n",
        "\n",
        "# TRAINING\n",
        "model.trainable = True\n",
        "model.fit(sequences_matrix,Y_train,\n",
        "          batch_size=128,epochs=10,\n",
        "          validation_data=(val_sequences_matrix, Y_val),\n",
        "          verbose=1,\n",
        "          callbacks=[ES_callback])\n"
      ],
      "metadata": {
        "colab": {
          "base_uri": "https://localhost:8080/"
        },
        "id": "VhTsUitvvnXY",
        "outputId": "86af7467-17e1-48e4-9d28-e34e1f742e11"
      },
      "execution_count": 69,
      "outputs": [
        {
          "output_type": "stream",
          "name": "stdout",
          "text": [
            "Epoch 1/10\n",
            "40/40 [==============================] - 7s 102ms/step - loss: 0.4140 - accuracy: 0.8562 - val_loss: 0.3764 - val_accuracy: 0.8523\n",
            "Epoch 2/10\n",
            "40/40 [==============================] - 4s 91ms/step - loss: 0.2536 - accuracy: 0.8957 - val_loss: 0.2304 - val_accuracy: 0.9093\n",
            "Epoch 3/10\n",
            "40/40 [==============================] - 4s 93ms/step - loss: 0.1018 - accuracy: 0.9638 - val_loss: 0.1846 - val_accuracy: 0.9235\n",
            "Epoch 4/10\n",
            "40/40 [==============================] - 4s 93ms/step - loss: 0.0512 - accuracy: 0.9822 - val_loss: 0.2283 - val_accuracy: 0.9199\n",
            "Epoch 5/10\n",
            "40/40 [==============================] - 4s 94ms/step - loss: 0.0313 - accuracy: 0.9919 - val_loss: 0.2531 - val_accuracy: 0.9110\n",
            "Epoch 6/10\n",
            "40/40 [==============================] - 4s 100ms/step - loss: 0.0232 - accuracy: 0.9923 - val_loss: 0.2622 - val_accuracy: 0.9181\n",
            "Epoch 7/10\n",
            "40/40 [==============================] - 4s 95ms/step - loss: 0.0185 - accuracy: 0.9935 - val_loss: 0.3071 - val_accuracy: 0.9164\n",
            "Epoch 8/10\n",
            "40/40 [==============================] - 4s 96ms/step - loss: 0.0097 - accuracy: 0.9976 - val_loss: 0.3517 - val_accuracy: 0.9199\n",
            "Epoch 9/10\n",
            "40/40 [==============================] - 4s 96ms/step - loss: 0.0045 - accuracy: 0.9986 - val_loss: 0.3752 - val_accuracy: 0.9217\n",
            "Epoch 10/10\n",
            "40/40 [==============================] - 4s 95ms/step - loss: 0.0025 - accuracy: 0.9996 - val_loss: 0.4825 - val_accuracy: 0.9217\n"
          ]
        },
        {
          "output_type": "execute_result",
          "data": {
            "text/plain": [
              "<keras.callbacks.History at 0x7f7144718f40>"
            ]
          },
          "metadata": {},
          "execution_count": 69
        }
      ]
    },
    {
      "cell_type": "code",
      "source": [
        "# making sure we dont change model during testing\n",
        "model.trainable = False\n",
        "\n",
        "test_tweets =[\n",
        "              [\"a semi truck crashed on the highway\",0],\n",
        "              [\"Love the new bbq pit. Gets good and hot, and smokes brisket like no other\",0],\n",
        "              [\"the fire near the power plant is hot\", 1],\n",
        "              [\"heavy winds on the way to dallas\", 1], \n",
        "              [\"Breaking: incoming rain\", 0],\n",
        "              [\"this concert is fire\", 0],\n",
        "              [\"a violent storm is coming into town tommorow\", 1],\n",
        "             ]\n",
        "\n",
        "# NOTES FROM TESTING\n",
        "\"\"\"\n",
        "need to break connection between 'BREAKING' and label 1\n",
        "need some example of rain in label 0\n",
        "need some highway crash examples in label 0\n",
        "need something to connect disaster near a power plant to label 1/2\n",
        "need some more violent storm examples of label 1\n",
        "\"\"\"\n",
        "\n",
        "new_tweets = []\n",
        "true_labels = []\n",
        "pred_preds = []\n",
        "for i in range(len(test_tweets)):\n",
        "    new_tweets.append(test_tweets[i][0])\n",
        "    true_labels.append(test_tweets[i][1])\n",
        "\n",
        "seq = tok.texts_to_sequences(new_tweets)\n",
        "padded = pad_sequences(seq, maxlen=MAX_LEN)\n",
        "pred = model.predict(padded).squeeze()\n",
        "\n",
        "categories = {0 : \"No Concern\",\n",
        "              1 : \"Of Moderate Concern\",\n",
        "              2 : \"An Immediate Threat\"}\n",
        "\n",
        "for i in range(len(new_tweets)):\n",
        "    print(new_tweets[i])\n",
        "    print(\"Raw Output of Model : \", np.around(pred[i], decimals=3))\n",
        "    prediction = np.around(pred[i]).astype(int)\n",
        "    pred_preds.append(prediction)\n",
        "    print(\"Predicted: \", categories[prediction], '\\n')"
      ],
      "metadata": {
        "colab": {
          "base_uri": "https://localhost:8080/"
        },
        "id": "aVMU2fy1wHCS",
        "outputId": "a4b691e7-bd32-4cc8-fb9a-49ad2e605f04"
      },
      "execution_count": 70,
      "outputs": [
        {
          "output_type": "stream",
          "name": "stdout",
          "text": [
            "1/1 [==============================] - 0s 431ms/step\n",
            "a semi truck crashed on the highway\n",
            "Raw Output of Model :  0.004\n",
            "Predicted:  No Concern \n",
            "\n",
            "Love the new bbq pit. Gets good and hot, and smokes brisket like no other\n",
            "Raw Output of Model :  0.0\n",
            "Predicted:  No Concern \n",
            "\n",
            "the fire near the power plant is hot\n",
            "Raw Output of Model :  0.773\n",
            "Predicted:  Of Moderate Concern \n",
            "\n",
            "heavy winds on the way to dallas\n",
            "Raw Output of Model :  0.978\n",
            "Predicted:  Of Moderate Concern \n",
            "\n",
            "Breaking: incoming rain\n",
            "Raw Output of Model :  0.004\n",
            "Predicted:  No Concern \n",
            "\n",
            "this concert is fire\n",
            "Raw Output of Model :  0.0\n",
            "Predicted:  No Concern \n",
            "\n",
            "a violent storm is coming into town tommorow\n",
            "Raw Output of Model :  0.015\n",
            "Predicted:  No Concern \n",
            "\n"
          ]
        }
      ]
    },
    {
      "cell_type": "code",
      "source": [
        "ConfusionMatrixDisplay(confusion_matrix(true_labels, pred_preds)).plot()"
      ],
      "metadata": {
        "colab": {
          "base_uri": "https://localhost:8080/",
          "height": 300
        },
        "id": "Un-ys4G3tFI8",
        "outputId": "8ba90454-9f79-48d6-bd2e-a9b00c92c1bb"
      },
      "execution_count": 56,
      "outputs": [
        {
          "output_type": "execute_result",
          "data": {
            "text/plain": [
              "<sklearn.metrics._plot.confusion_matrix.ConfusionMatrixDisplay at 0x7f7150fbefa0>"
            ]
          },
          "metadata": {},
          "execution_count": 56
        },
        {
          "output_type": "display_data",
          "data": {
            "text/plain": [
              "<Figure size 432x288 with 2 Axes>"
            ],
            "image/png": "[encoded data removed]"
          },
          "metadata": {
            "needs_background": "light"
          }
        }
      ]
    },
    {
      "cell_type": "code",
      "source": [
        "### Saving a Model ###\n",
        "\n",
        "# !mkdir -p '/content/gdrive/MyDrive/403_saved_models'\n",
        "\n",
        "model_version = '0.2'\n",
        "\n",
        "model.save('/content/gdrive/MyDrive/403_saved_models/model_' + str(model_version)) "
      ],
      "metadata": {
        "id": "v6oxW3bb-eXJ"
      },
      "execution_count": null,
      "outputs": []
    },
    {
      "cell_type": "code",
      "execution_count": null,
      "metadata": {
        "id": "0YofwHdN0pxa"
      },
      "outputs": [],
      "source": [
        "### Loading a Saved Model ###\n",
        "loaded_model = load_model('/content/gdrive/MyDrive/403_saved_models/model_'+ str(model_version))\n",
        "\n",
        "# make sure I dont screw with the weights and biases\n",
        "loaded_model.trainable = False\n",
        "\n",
        "# Check its architecture\n",
        "loaded_model.summary()"
      ]
    }
  ]
}